{
 "cells": [
  {
   "attachments": {},
   "cell_type": "markdown",
   "id": "a51ec6b6",
   "metadata": {},
   "source": [
    "# Coding project: Connect4 agent\n",
    "\n",
    "SASSON Charlotte - BERARD Paul - PUJOL Corentin"
   ]
  },
  {
   "attachments": {},
   "cell_type": "markdown",
   "id": "201e647c",
   "metadata": {},
   "source": [
    "## Introduction\n",
    "\n",
    "The assignment is to develop an agent for Connect4, as implemented in the PettingZoo library, using Reinforcement Learning methods.\n",
    "\n",
    "https://pettingzoo.farama.org/environments/classic/connect_four/\n",
    "\n",
    "Students need to form groups of 2 or 3 *or 4* students, and will deliver a zip containing the code and a short report on the methods used. Deadline: April 14th.\n",
    "\n",
    "The report should contain a description of the methods used and a description of the results. Here are a few questions that should be adressed in some way in the report\n",
    "What design choices did you make in the development of your algorithm?\n",
    "Describe the training procedure, the structure of the code.\n",
    "Describe how you chose important hyperparameters, what you understand from their impact.\n",
    "How did you assess the quality of your agent?\n",
    "Do you think the approach you implemented would fare well on more complex environments, like backgammon, chess, go, Starcraft?\n",
    "How would you improve it if given more time or computational power?\n",
    "Describe also the workflow and how you split the work in the group.\n",
    "\n",
    "\n",
    "The code should be clear and legible, variables well-named, and commented when helpful for comprehension. The final code should implement a class Player, with a method get_action that takes a state as specified in the PettingZoo environment and returns an integer between 0 and 6.\n",
    "\n",
    "Performance is not the main point: better to show understanding of the methods you used and their limits.  \n",
    "\n",
    "Ideas to get started: \n",
    "MCTS : https://sites.ualberta.ca/~szepesva/papers/CACM-MCTS.pdf\n",
    "\n",
    "Eligibility Traces:\n",
    "https://www.bkgm.com/articles/tesauro/tdl.html\n",
    "https://www.ai.rug.nl/~mwiering/GROUP/ARTICLES/learning-chess.pdf"
   ]
  },
  {
   "attachments": {},
   "cell_type": "markdown",
   "id": "3f0ecd01",
   "metadata": {},
   "source": [
    "## Dependancies handling"
   ]
  },
  {
   "cell_type": "code",
   "execution_count": 1,
   "id": "d00092af",
   "metadata": {},
   "outputs": [
    {
     "name": "stdout",
     "output_type": "stream",
     "text": [
      "Looking in indexes: https://download.pytorch.org/whl/cu117\n",
      "Requirement already satisfied: torch in c:\\users\\coco8\\anaconda3\\envs\\connect4\\lib\\site-packages (2.0.0)\n",
      "Requirement already satisfied: torchvision in c:\\users\\coco8\\anaconda3\\envs\\connect4\\lib\\site-packages (0.15.1+cu117)\n",
      "Requirement already satisfied: torchaudio in c:\\users\\coco8\\anaconda3\\envs\\connect4\\lib\\site-packages (2.0.1+cu117)\n",
      "Requirement already satisfied: filelock in c:\\users\\coco8\\anaconda3\\envs\\connect4\\lib\\site-packages (from torch) (3.10.7)\n",
      "Requirement already satisfied: sympy in c:\\users\\coco8\\anaconda3\\envs\\connect4\\lib\\site-packages (from torch) (1.11.1)\n",
      "Requirement already satisfied: typing-extensions in c:\\users\\coco8\\anaconda3\\envs\\connect4\\lib\\site-packages (from torch) (4.5.0)\n",
      "Requirement already satisfied: networkx in c:\\users\\coco8\\anaconda3\\envs\\connect4\\lib\\site-packages (from torch) (3.0)\n",
      "Requirement already satisfied: jinja2 in c:\\users\\coco8\\anaconda3\\envs\\connect4\\lib\\site-packages (from torch) (3.1.2)\n",
      "Requirement already satisfied: requests in c:\\users\\coco8\\anaconda3\\envs\\connect4\\lib\\site-packages (from torchvision) (2.28.1)\n",
      "Requirement already satisfied: pillow!=8.3.*,>=5.3.0 in c:\\users\\coco8\\anaconda3\\envs\\connect4\\lib\\site-packages (from torchvision) (9.5.0)\n",
      "Requirement already satisfied: numpy in c:\\users\\coco8\\anaconda3\\envs\\connect4\\lib\\site-packages (from torchvision) (1.24.2)\n",
      "Requirement already satisfied: MarkupSafe>=2.0 in c:\\users\\coco8\\anaconda3\\envs\\connect4\\lib\\site-packages (from jinja2->torch) (2.1.2)\n",
      "Requirement already satisfied: idna<4,>=2.5 in c:\\users\\coco8\\anaconda3\\envs\\connect4\\lib\\site-packages (from requests->torchvision) (3.4)\n",
      "Requirement already satisfied: certifi>=2017.4.17 in c:\\users\\coco8\\anaconda3\\envs\\connect4\\lib\\site-packages (from requests->torchvision) (2022.12.7)\n",
      "Requirement already satisfied: urllib3<1.27,>=1.21.1 in c:\\users\\coco8\\anaconda3\\envs\\connect4\\lib\\site-packages (from requests->torchvision) (1.26.13)\n",
      "Requirement already satisfied: charset-normalizer<3,>=2 in c:\\users\\coco8\\anaconda3\\envs\\connect4\\lib\\site-packages (from requests->torchvision) (2.1.1)\n",
      "Requirement already satisfied: mpmath>=0.19 in c:\\users\\coco8\\anaconda3\\envs\\connect4\\lib\\site-packages (from sympy->torch) (1.3.0)\n"
     ]
    }
   ],
   "source": [
    "# import pip \n",
    "\n",
    "# !pip install pettingzoo\n",
    "# !pip install pygame\n",
    "# !pip install numpy\n",
    "!pip install torch torchvision torchaudio --index-url https://download.pytorch.org/whl/cu117"
   ]
  },
  {
   "cell_type": "code",
   "execution_count": 2,
   "id": "d5971313",
   "metadata": {},
   "outputs": [],
   "source": [
    "from pettingzoo.classic import connect_four_v3\n",
    "\n",
    "import numpy as np\n",
    "import matplotlib.pyplot as plt\n",
    "\n",
    "import os\n",
    "os.environ[\"SDL_VIDEODRIVER\"] = \"dummy\"\n",
    "from IPython.display import clear_output\n",
    "\n",
    "import numpy as np\n",
    "import torch\n",
    "import torch.nn as nn\n",
    "import torch.optim as optim"
   ]
  },
  {
   "attachments": {},
   "cell_type": "markdown",
   "id": "cd69e510",
   "metadata": {},
   "source": [
    "# Using the PettingZoo environment\n",
    "\n",
    "This notebook provides smalls chunks of code to get you started with the Connect4 project. You do not have to use this code in you final file, but you can if you wish to. "
   ]
  },
  {
   "cell_type": "code",
   "execution_count": 3,
   "id": "abc87362",
   "metadata": {},
   "outputs": [
    {
     "name": "stdout",
     "output_type": "stream",
     "text": [
      "(6, 7, 2)\n",
      "[[0 0 0 0 0 0 0]\n",
      " [0 0 0 0 0 0 0]\n",
      " [0 0 0 0 0 0 0]\n",
      " [0 0 0 0 0 0 0]\n",
      " [0 0 0 0 0 0 0]\n",
      " [0 0 0 0 0 0 0]]\n",
      "[[0 0 0 0 0 0 0]\n",
      " [0 0 0 0 0 0 0]\n",
      " [0 0 0 0 0 0 0]\n",
      " [0 0 0 0 0 0 0]\n",
      " [0 0 0 0 0 0 0]\n",
      " [0 0 0 0 0 0 0]]\n",
      "[1 1 1 1 1 1 1]\n"
     ]
    }
   ],
   "source": [
    "env = connect_four_v3.env(render_mode=\"rgb_array\")\n",
    "\n",
    "env.reset()\n",
    "\n",
    "# The main difference with the standard gym api is the way the environment is queried. The `step` method return `None`. To get the data on the environment, use the `last` method\n",
    "state, reward, terminated, truncated, info = env.last()\n",
    "\n",
    "# state is a dictionary with two keys: observation and action_mask\n",
    "print(\n",
    "    state[\"observation\"].shape\n",
    ")  # Observation is a numpy array with three coordinates, indicating the positions of the pieces of of player 0 and 1 on the the board\n",
    "print(state[\"observation\"][:, :, 0])  # Where the pieces of player 0 are\n",
    "print(state[\"observation\"][:, :, 1])  # Where the pieces of player 1 are\n",
    "\n",
    "print(state[\"action_mask\"])  # an array showing whether the actions are legal or nots\n"
   ]
  },
  {
   "cell_type": "code",
   "execution_count": 4,
   "id": "abbd836e",
   "metadata": {},
   "outputs": [
    {
     "name": "stdout",
     "output_type": "stream",
     "text": [
      "(6, 7, 2)\n",
      "[[0 0 0 0 0 0 0]\n",
      " [0 0 0 0 0 0 0]\n",
      " [0 0 0 0 0 0 0]\n",
      " [0 0 0 0 0 0 0]\n",
      " [0 0 0 0 0 0 0]\n",
      " [0 0 0 0 0 0 0]]\n",
      "[[0 0 0 0 0 0 0]\n",
      " [0 0 0 0 0 0 0]\n",
      " [0 0 0 0 0 0 0]\n",
      " [0 0 0 0 0 0 0]\n",
      " [0 0 0 0 0 0 0]\n",
      " [1 0 0 0 0 0 0]]\n",
      "[1 1 1 1 1 1 1]\n"
     ]
    }
   ],
   "source": [
    "env.reset()\n",
    "env.step(0)\n",
    "\n",
    "state, reward, terminated, truncated, info = env.last()\n",
    "\n",
    "print(\n",
    "    state[\"observation\"].shape\n",
    ") \n",
    "print(state[\"observation\"][:, :, 0])  \n",
    "print(state[\"observation\"][:, :, 1])  \n",
    "\n",
    "print(state[\"action_mask\"])"
   ]
  },
  {
   "attachments": {},
   "cell_type": "markdown",
   "id": "92f5bcdf",
   "metadata": {},
   "source": [
    "# Agents\n",
    "\n",
    "Here are some implementations of trivial agents that you should be able to beat ultimately. "
   ]
  },
  {
   "cell_type": "code",
   "execution_count": 5,
   "id": "12f7e8d3",
   "metadata": {},
   "outputs": [],
   "source": [
    "class RandomPlayer:\n",
    "    def __init__(self, rng=None):\n",
    "        if rng is None:\n",
    "            self.rng = np.random.default_rng()\n",
    "        else:\n",
    "            self.rng = rng\n",
    "\n",
    "        self.name = \"Random Player\"\n",
    "\n",
    "    def get_action(self, obs_mask, epsilon=None):\n",
    "        return self.random_choice_with_mask(np.arange(7), obs_mask[\"action_mask\"])\n",
    "\n",
    "    def random_choice_with_mask(self, arr, mask):\n",
    "        masked_arr = np.ma.masked_array(arr, mask=1 - mask)\n",
    "        if masked_arr.count() == 0:\n",
    "            return None\n",
    "        return self.rng.choice(masked_arr.compressed())\n"
   ]
  },
  {
   "cell_type": "code",
   "execution_count": 6,
   "id": "dfcac1b4",
   "metadata": {},
   "outputs": [],
   "source": [
    "class PlayLeftmostLegal:\n",
    "    def __init__(self):\n",
    "        self.name = \"Left Player\"\n",
    "\n",
    "    def get_action(self, obs_mask, epsilon=None):\n",
    "        for i, legal in enumerate(obs_mask[\"action_mask\"]):\n",
    "            if legal:\n",
    "                return i\n",
    "        return None\n"
   ]
  },
  {
   "attachments": {},
   "cell_type": "markdown",
   "id": "1f4fdf7e",
   "metadata": {},
   "source": [
    "# Running a game\n",
    "\n",
    "\n",
    "The following function runs a full game between the two agents. "
   ]
  },
  {
   "cell_type": "code",
   "execution_count": 7,
   "id": "7ff5ca49",
   "metadata": {},
   "outputs": [],
   "source": [
    "def play_game(env, agent0, agent1, display=False):\n",
    "    done = False\n",
    "    env.reset()\n",
    "    obs, _, _, _, _ = env.last()\n",
    "    while not done:\n",
    "        for i, agent in enumerate([agent0, agent1]):\n",
    "            action = agent.get_action(obs, epsilon=0)\n",
    "            env.step(action)\n",
    "            if display:\n",
    "                clear_output(wait=True)\n",
    "                plt.imshow(env.render())\n",
    "                plt.show()\n",
    "            obs, reward, terminated, _, _ = env.last()\n",
    "            done = terminated\n",
    "            if np.sum(obs[\"action_mask\"]) == 0:\n",
    "                if display: \n",
    "                    print('Draw')\n",
    "                return 0.5\n",
    "            if done:\n",
    "                if display:\n",
    "                    print(f\"Player {i}: {agent.name} won\")\n",
    "                    print(obs['observation'][:, :, 0]- obs['observation'][:, :, 1])\n",
    "                return i"
   ]
  },
  {
   "cell_type": "code",
   "execution_count": 8,
   "id": "8b1dd4e1",
   "metadata": {},
   "outputs": [
    {
     "data": {
      "image/png": "[encoded data removed]",
      "text/plain": [
       "<Figure size 640x480 with 1 Axes>"
      ]
     },
     "metadata": {},
     "output_type": "display_data"
    },
    {
     "name": "stdout",
     "output_type": "stream",
     "text": [
      "Player 0: Random Player won\n",
      "[[-1  0  0  0  0  0  0]\n",
      " [-1  0  0  0  0  0  0]\n",
      " [-1  0  0  0  0  1  0]\n",
      " [ 1 -1  0  0  0  1  0]\n",
      " [-1  1  0  0  0  1  0]\n",
      " [-1 -1  1  0  1  1  0]]\n"
     ]
    },
    {
     "data": {
      "text/plain": [
       "0"
      ]
     },
     "execution_count": 8,
     "metadata": {},
     "output_type": "execute_result"
    }
   ],
   "source": [
    "agent0 = RandomPlayer()\n",
    "agent1 = PlayLeftmostLegal()\n",
    "\n",
    "play_game(env, agent0, agent1, display=True)"
   ]
  },
  {
   "cell_type": "code",
   "execution_count": 9,
   "id": "4544abda",
   "metadata": {},
   "outputs": [
    {
     "data": {
      "image/png": "[encoded data removed]",
      "text/plain": [
       "<Figure size 640x480 with 1 Axes>"
      ]
     },
     "metadata": {},
     "output_type": "display_data"
    }
   ],
   "source": [
    "plt.hist([play_game(env, agent0, agent1, display=False) for _ in range(100)])\n",
    "plt.show()"
   ]
  },
  {
   "attachments": {},
   "cell_type": "markdown",
   "id": "173cc5af",
   "metadata": {},
   "source": [
    "# Emulating a Gym environment\n",
    "\n",
    "If we fix the opposite policy, the game from the point of view of the agent is equivalent to a Gym environment. The following class implements this simulation. Then any algorithm that would work in a gym environment with the same observations will work here. \n",
    "\n",
    "Note that we implemented the possibility to be the first or the second player. "
   ]
  },
  {
   "cell_type": "code",
   "execution_count": 10,
   "id": "a9a2406f",
   "metadata": {},
   "outputs": [],
   "source": [
    "class EnvAgainstPolicy: \n",
    "    def __init__(self, env, policy, first_player=True):\n",
    "        self.policy = policy\n",
    "        self.env = env\n",
    "        self.first_player = first_player\n",
    "        self.reset()\n",
    "\n",
    "    def step(self, action):\n",
    "        self.env.step(action)\n",
    "        obs, reward, terminated, _, _ = self.env.last()\n",
    "        if terminated: \n",
    "            self.last_step = obs, reward, True, False, {}\n",
    "        else: \n",
    "            action = self.policy.get_action(obs)\n",
    "            self.env.step(action)\n",
    "            obs, reward, terminated, _, _ = self.env.last()\n",
    "            self.last_step = obs, -reward, terminated, False, {}\n",
    "        return self.last_step\n",
    "\n",
    "    def reset(self):\n",
    "        self.env.reset()\n",
    "        if not(self.first_player): \n",
    "            obs, _, _, _, _ = self.env.last()\n",
    "            action = self.policy.get_action(obs)\n",
    "            self.env.step(action)\n",
    "\n",
    "        self.last_step = self.env.last()\n",
    "        return self.last_step\n",
    "\n",
    "    def last(self):\n",
    "        return self.last_step"
   ]
  },
  {
   "attachments": {},
   "cell_type": "markdown",
   "id": "3cb3fab1",
   "metadata": {},
   "source": [
    "# Evaluating an agent against a fixed policy: \n",
    "\n",
    "Using the environment above, we can evaluate the agent against this fixed policy. "
   ]
  },
  {
   "cell_type": "code",
   "execution_count": 11,
   "id": "607783c5",
   "metadata": {},
   "outputs": [],
   "source": [
    "def eval_against_policy(env, agent, policy, N_episodes=10, first_player=True):\n",
    "    eval_env = EnvAgainstPolicy(env, policy, first_player=first_player)\n",
    "    results = []\n",
    "    for _ in range(N_episodes):\n",
    "        done = False\n",
    "        eval_env.reset()\n",
    "        obs, _, _, _, _ = eval_env.last()\n",
    "        while not done:\n",
    "            action = agent.get_action(obs, epsilon=0)\n",
    "            eval_env.step(action)\n",
    "            obs, reward, done, _, _ = eval_env.last()\n",
    "        results.append(reward)\n",
    "    return results"
   ]
  },
  {
   "attachments": {},
   "cell_type": "markdown",
   "id": "da1790b4",
   "metadata": {},
   "source": [
    "We can see that if both players play randomly, there is a small but significant advantage to the first player. "
   ]
  },
  {
   "cell_type": "code",
   "execution_count": 12,
   "id": "38debdc5",
   "metadata": {},
   "outputs": [
    {
     "data": {
      "image/png": "[encoded data removed]",
      "text/plain": [
       "<Figure size 640x480 with 1 Axes>"
      ]
     },
     "metadata": {},
     "output_type": "display_data"
    },
    {
     "data": {
      "image/png": "[encoded data removed]",
      "text/plain": [
       "<Figure size 640x480 with 1 Axes>"
      ]
     },
     "metadata": {},
     "output_type": "display_data"
    }
   ],
   "source": [
    "plt.hist(eval_against_policy(env, RandomPlayer(), RandomPlayer(), N_episodes=1000, first_player=False))\n",
    "plt.show()\n",
    "plt.hist(eval_against_policy(env, RandomPlayer(), RandomPlayer(), N_episodes=1000, first_player=True))\n",
    "plt.show()"
   ]
  },
  {
   "attachments": {},
   "cell_type": "markdown",
   "id": "79580594",
   "metadata": {},
   "source": [
    "# Your turn \n",
    "\n",
    "Try to build a decent agent. Be creative! You can try any idea that you have: the grade is not about performance of the agent, but more about illustrating phenomena happening in Reinforcement Learning for turn-based games. It's okay to 'help' the agent in any way, as long as it follows the ideas of RL (i.e., as long as there is some learning involved).\n",
    "\n",
    "\n"
   ]
  },
  {
   "attachments": {},
   "cell_type": "markdown",
   "id": "8f62771e",
   "metadata": {},
   "source": [
    "## Technical choices\n",
    "\n",
    "To train our agent in Connect4, we chose to implement a Q-Learning algorithm.\n",
    "\n",
    "How the Q-learning algorithm works:\n",
    "\n",
    "The Q-learning algorithm is a reinforcement method that allows an agent to learn to make decisions based on the expected value of future rewards.\n",
    "\n",
    "For each possible state of the game, the agent maintains a table Q(s, a) of expected utility values for each possible action a, assuming that the agent follows an optimal policy.\n",
    "\n",
    "The agent chooses an action based on the current state of the game, selecting the action that maximises the expected value of future rewards.\n",
    "\n",
    "The agent updates the value of Q(s, a) according to the actual reward it receives for this action and the value of Q(s+1, a+1) for the next state and action, using the Q-learning update formula:\n",
    "\n",
    "Q(s, a) <- Q(s, a) + alpha * (r + gamma * max(Q(s+1, a+1)) - Q(s, a))\n",
    "\n",
    "With alpha the learning rate, gamma the discount rate (which prioritises immediate rather than future rewards), r is the actual reward for the action taken, and max(Q(s+1, a+1)) is the maximum expected value of future rewards for the next state s+1 and all possible actions a+1."
   ]
  },
  {
   "attachments": {},
   "cell_type": "markdown",
   "id": "f47ea9c9",
   "metadata": {},
   "source": [
    "## Initialization of parameters"
   ]
  },
  {
   "cell_type": "code",
   "execution_count": 13,
   "id": "3cd36961",
   "metadata": {},
   "outputs": [],
   "source": [
    "# EPISODES = 10000\n",
    "# EPSILON = 0.1\n",
    "# ALPHA = 0.2\n",
    "# GAMMA = 0.9"
   ]
  },
  {
   "attachments": {},
   "cell_type": "markdown",
   "id": "b12cc472",
   "metadata": {},
   "source": [
    "## Initialization of the Q table\n",
    "\n",
    "Table Q will contain the action-state values for each state and each possible action. In this case, there are 2^42 possible states (2 for each grid cell) and 7 possible actions (one for each grid column):"
   ]
  },
  {
   "cell_type": "code",
   "execution_count": 14,
   "id": "4a1a60e5",
   "metadata": {},
   "outputs": [],
   "source": [
    "# Q = np.zeros((2**42, 7), dtype='uint8')"
   ]
  },
  {
   "attachments": {},
   "cell_type": "markdown",
   "id": "e930cffa",
   "metadata": {},
   "source": [
    "## Training the agent in the environment\n",
    "\n",
    "Training the agent by running episodes in the Connect Four environment."
   ]
  },
  {
   "cell_type": "code",
   "execution_count": 15,
   "id": "4470bf64",
   "metadata": {},
   "outputs": [],
   "source": [
    "# \"\"\"\n",
    "# Création d'une instance de l'environnement Connect Four V3 de PettingZoo. \n",
    "\n",
    "# Cet environnement a deux agents, chacun jouant un pion différent.\n",
    "# Le but est d'aligner quatre pions de la même couleur sur une grille de 6x7 cases.\n",
    "# \"\"\"\n",
    "# env = connect_four_v3.env()\n",
    "\n",
    "# for i in range(EPISODES): #Un épisode correspond à une itération d'entraînement de l'agent (Il s'agit d'une partie complète)\n",
    "#     obs = env.reset() #On réinitialise l'environnement pour que l'agent à chaque itération apprenne à jouer d'un état initial de la grille\n",
    "#     done = False #Condition de sortie de la boucle (lorsque la partie est terminée)\n",
    "#     while not done:\n",
    "        \n",
    "#         \"\"\"\n",
    "#         Choix d'une action basée sur la politique epsilon-greedy\n",
    "        \n",
    "#         Si le nombre aléatoire généré est inférieur à epsilon :\n",
    "#              - l'agent choisit une action aléatoire parmi les actions possibles\n",
    "\n",
    "#         Sinon :\n",
    "#             - il choisit l'action qui maximise la valeur Q de l'état actuel.\n",
    "#         \"\"\"\n",
    "        \n",
    "#         if np.random.uniform() < EPSILON: \n",
    "#             action = np.random.choice(env.action_spaces[\"player_0\"])\n",
    "#         else:\n",
    "#             state = np.ravel_multi_index((obs['board'], obs['mark']), (2, 3) * (6,))\n",
    "#             action = np.argmax(Q[state])\n",
    "            \n",
    "#         #L'environnement effectue ensuite l'action choisie par l'agent et renvoie la nouvelle observation, la récompense, si l'épisode est terminé et des informations supplémentaires.\n",
    "#         new_obs, reward, done, _ = env.step(action)\n",
    "#         new_state = np.ravel_multi_index((new_obs['board'], new_obs['mark']), (2, 3) * (6,))\n",
    "        \n",
    "#         # Update Q-table\n",
    "#         Q[state, action] += ALPHA * (reward + GAMMA * np.max(Q[new_state]) - Q[state, action])\n",
    "#         # Update state\n",
    "#         obs = new_obs"
   ]
  },
  {
   "attachments": {},
   "cell_type": "markdown",
   "id": "bb2517fc",
   "metadata": {},
   "source": [
    "We then realised that it was not possible to use Q-Learning to solve this problem as there are too many states in Connect4... A method approximating the Q-function would be better able to meet our need. \n",
    "\n",
    "Indeed, it would consist in approximating the Q-value function by a parametric function learned by the agent.\n",
    "\n",
    "To do this we will first implement a Deep Q-Network (DQN). This is an extension of Q-Learning that uses a neural network to approximate the Q-function. DQNs are particularly effective for tasks that have complex state spaces and discrete actions."
   ]
  },
  {
   "attachments": {},
   "cell_type": "markdown",
   "id": "a5b63768",
   "metadata": {},
   "source": [
    "## DQN"
   ]
  },
  {
   "attachments": {},
   "cell_type": "markdown",
   "id": "4d5932b8",
   "metadata": {},
   "source": [
    "We start by setting up the architecture of the neural network used to approximate the Q function. \n",
    "\n",
    "The network architecture is composed of three fully connected layers of different sizes. The first two layers each have 128 neurons and use a ReLU activation function to introduce non-linearity into the network. The last layer has no activation function and directly returns the Q-values for the different actions.\n",
    "\n",
    "The model uses the Adam optimisation algorithm for updating the network weights during training."
   ]
  },
  {
   "cell_type": "code",
   "execution_count": 16,
   "id": "88a663db",
   "metadata": {},
   "outputs": [],
   "source": [
    "class DQN(nn.Module):\n",
    "    \"\"\"\n",
    "    Classe implémentant un réseau de neurones profond pour approximer la fonction Q d'un environnement de RL\n",
    "    Paramètres :\n",
    "        input_shape (tuple) : la forme de l'entrée du réseau de neurones, spécifie la taille de l'état de l'environnement\n",
    "        num_actions (int) : le nombre d'actions disponibles dans l'environnement\n",
    "        lr (float) : le taux d'apprentissage utilisé pour optimiser les poids du réseau de neurones\n",
    "    \"\"\"\n",
    "    def __init__(self, input_shape, num_actions, lr):\n",
    "        super().__init__()\n",
    "        self.fc1 = nn.Linear(input_shape[0], 128)\n",
    "        self.fc2 = nn.Linear(128, 128)\n",
    "        self.fc3 = nn.Linear(128, num_actions)\n",
    "        self.optimizer = optim.Adam(self.parameters(), lr=lr)\n",
    "\n",
    "    def forward(self, x):\n",
    "        x = torch.relu(self.fc1(x))\n",
    "        x = torch.relu(self.fc2(x))\n",
    "        x = self.fc3(x)\n",
    "        return x"
   ]
  },
  {
   "cell_type": "markdown",
   "id": "b7950b46",
   "metadata": {},
   "source": []
  },
  {
   "cell_type": "code",
   "execution_count": 17,
   "id": "548f50d2",
   "metadata": {},
   "outputs": [],
   "source": [
    "class DQNAgent:\n",
    "\n",
    "    \"\"\"\n",
    "    A DQNAgent represents an agent that uses a Deep Q-Network (DQN) to approximate the Q-function of a given environment.\n",
    "\n",
    "    Args:\n",
    "        observation_shape (tuple): The shape of the observation space of the environment.\n",
    "        action_space (gym.Space): The action space of the environment.\n",
    "        lr (float): The learning rate used for the optimizer.\n",
    "        gamma (float): The discount factor used in the Q-learning update.\n",
    "        buffer_size (int): The maximum size of the replay buffer.\n",
    "        batch_size (int): The batch size used for each training step.\n",
    "        target_update_frequency (int): The number of steps between each update of the target network.\n",
    "        epsilon_start (float): The starting value of epsilon for epsilon-greedy exploration.\n",
    "        epsilon_end (float): The final value of epsilon for epsilon-greedy exploration.\n",
    "        epsilon_decay_steps (int): The number of steps over which to linearly decay epsilon from its starting value to its final value.\n",
    "        device (str): The device used for training the neural network ('cpu' or 'cuda').\n",
    "    \"\"\"\n",
    "    def __init__(self, env, net, replay_buffer, batch_size, gamma, epsilon_start, epsilon_end, epsilon_decay):\n",
    "        self.env = env\n",
    "        self.net = net\n",
    "        self.replay_buffer = replay_buffer\n",
    "        self.batch_size = batch_size\n",
    "        self.gamma = gamma\n",
    "        self.epsilon_start = epsilon_start\n",
    "        self.epsilon_end = epsilon_end\n",
    "        self.epsilon_decay = epsilon_decay\n",
    "        self.epsilon = epsilon_start\n",
    "\n",
    "    def get_action(self, state):\n",
    "        # Choix aléatoire d'une action avec une probabilité epsilon\n",
    "        if np.random.rand() < self.epsilon:\n",
    "            action = self.env.action_space.sample()\n",
    "\n",
    "        # Exploitation de la Q-function apprise pour choisir l'action maximisant la Q-value\n",
    "        else:\n",
    "            state_tensor = torch.tensor([state], dtype=torch.float32) # Conversion de l'état en tensor pour l'alimenter dans le réseau de neurones\n",
    "            q_values = self.net(state_tensor).detach().numpy() # Prédiction des Q-values de chaque action pour l'état donné\n",
    "            action = np.argmax(q_values) # Sélection de l'action maximisant la Q-value prédite\n",
    "        \n",
    "        return action\n",
    "\n",
    "    # def train(self):"
   ]
  }
 ],
 "metadata": {
  "kernelspec": {
   "display_name": "Python 3 (ipykernel)",
   "language": "python",
   "name": "python3"
  },
  "language_info": {
   "codemirror_mode": {
    "name": "ipython",
    "version": 3
   },
   "file_extension": ".py",
   "mimetype": "text/x-python",
   "name": "python",
   "nbconvert_exporter": "python",
   "pygments_lexer": "ipython3",
   "version": "3.9.16"
  }
 },
 "nbformat": 4,
 "nbformat_minor": 5
}
