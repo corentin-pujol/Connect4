{
 "cells": [
  {
   "cell_type": "markdown",
   "id": "a51ec6b6",
   "metadata": {},
   "source": [
    "# Coding project: Connect4 agent\n",
    "\n",
    "SASSON Charlotte - BERARD Paul - JEUNOT Xavier - PUJOL Corentin"
   ]
  },
  {
   "cell_type": "markdown",
   "id": "201e647c",
   "metadata": {},
   "source": [
    "## Introduction\n",
    "\n",
    "The assignment is to develop an agent for Connect4, as implemented in the PettingZoo library, using Reinforcement Learning methods.\n",
    "\n",
    "https://pettingzoo.farama.org/environments/classic/connect_four/\n",
    "\n",
    "Students need to form groups of 2 or 3 *or 4* students, and will deliver a zip containing the code and a short report on the methods used. Deadline: April 14th.\n",
    "\n",
    "The report should contain a description of the methods used and a description of the results. Here are a few questions that should be adressed in some way in the report\n",
    "What design choices did you make in the development of your algorithm?\n",
    "Describe the training procedure, the structure of the code.\n",
    "Describe how you chose important hyperparameters, what you understand from their impact.\n",
    "How did you assess the quality of your agent?\n",
    "Do you think the approach you implemented would fare well on more complex environments, like backgammon, chess, go, Starcraft?\n",
    "How would you improve it if given more time or computational power?\n",
    "Describe also the workflow and how you split the work in the group.\n",
    "\n",
    "\n",
    "The code should be clear and legible, variables well-named, and commented when helpful for comprehension. The final code should implement a class Player, with a method get_action that takes a state as specified in the PettingZoo environment and returns an integer between 0 and 6.\n",
    "\n",
    "Performance is not the main point: better to show understanding of the methods you used and their limits.  \n",
    "\n",
    "Ideas to get started: \n",
    "MCTS : https://sites.ualberta.ca/~szepesva/papers/CACM-MCTS.pdf\n",
    "\n",
    "Eligibility Traces:\n",
    "https://www.bkgm.com/articles/tesauro/tdl.html\n",
    "https://www.ai.rug.nl/~mwiering/GROUP/ARTICLES/learning-chess.pdf"
   ]
  },
  {
   "cell_type": "markdown",
   "id": "3f0ecd01",
   "metadata": {},
   "source": [
    "## Dependancies handling"
   ]
  },
  {
   "cell_type": "code",
   "execution_count": 1,
   "id": "d00092af",
   "metadata": {},
   "outputs": [],
   "source": [
    "# import pip \n",
    "\n",
    "# !pip install pettingzoo\n",
    "# !pip install pygame\n",
    "# !pip install numpy\n",
    "# !pip install torch torchvision torchaudio --index-url https://download.pytorch.org/whl/cu117"
   ]
  },
  {
   "cell_type": "code",
   "execution_count": 2,
   "id": "d5971313",
   "metadata": {},
   "outputs": [],
   "source": [
    "from pettingzoo.classic import connect_four_v3\n",
    "\n",
    "import numpy as np\n",
    "import matplotlib.pyplot as plt\n",
    "\n",
    "import os\n",
    "os.environ[\"SDL_VIDEODRIVER\"] = \"dummy\"\n",
    "from IPython.display import clear_output\n",
    "\n",
    "import numpy as np\n",
    "import torch\n",
    "import torch.nn as nn\n",
    "import torch.optim as optim\n",
    "\n",
    "from copy import deepcopy\n",
    "import random as rd"
   ]
  },
  {
   "cell_type": "markdown",
   "id": "cd69e510",
   "metadata": {},
   "source": [
    "# Using the PettingZoo environment\n",
    "\n",
    "This notebook provides smalls chunks of code to get you started with the Connect4 project. You do not have to use this code in you final file, but you can if you wish to. "
   ]
  },
  {
   "cell_type": "code",
   "execution_count": 3,
   "id": "abc87362",
   "metadata": {},
   "outputs": [
    {
     "name": "stdout",
     "output_type": "stream",
     "text": [
      "{'observation': array([[[0, 0],\n",
      "        [0, 0],\n",
      "        [0, 0],\n",
      "        [0, 0],\n",
      "        [0, 0],\n",
      "        [0, 0],\n",
      "        [0, 0]],\n",
      "\n",
      "       [[0, 0],\n",
      "        [0, 0],\n",
      "        [0, 0],\n",
      "        [0, 0],\n",
      "        [0, 0],\n",
      "        [0, 0],\n",
      "        [0, 0]],\n",
      "\n",
      "       [[0, 0],\n",
      "        [0, 0],\n",
      "        [0, 0],\n",
      "        [0, 0],\n",
      "        [0, 0],\n",
      "        [0, 0],\n",
      "        [0, 0]],\n",
      "\n",
      "       [[0, 0],\n",
      "        [0, 0],\n",
      "        [0, 0],\n",
      "        [0, 0],\n",
      "        [0, 0],\n",
      "        [0, 0],\n",
      "        [0, 0]],\n",
      "\n",
      "       [[0, 0],\n",
      "        [0, 0],\n",
      "        [0, 0],\n",
      "        [0, 0],\n",
      "        [0, 0],\n",
      "        [0, 0],\n",
      "        [0, 0]],\n",
      "\n",
      "       [[0, 0],\n",
      "        [0, 0],\n",
      "        [0, 0],\n",
      "        [0, 0],\n",
      "        [0, 0],\n",
      "        [0, 0],\n",
      "        [0, 0]]], dtype=int8), 'action_mask': array([1, 1, 1, 1, 1, 1, 1], dtype=int8)}\n",
      "(6, 7, 2)\n",
      "[[0 0 0 0 0 0 0]\n",
      " [0 0 0 0 0 0 0]\n",
      " [0 0 0 0 0 0 0]\n",
      " [0 0 0 0 0 0 0]\n",
      " [0 0 0 0 0 0 0]\n",
      " [0 0 0 0 0 0 0]]\n",
      "[[0 0 0 0 0 0 0]\n",
      " [0 0 0 0 0 0 0]\n",
      " [0 0 0 0 0 0 0]\n",
      " [0 0 0 0 0 0 0]\n",
      " [0 0 0 0 0 0 0]\n",
      " [0 0 0 0 0 0 0]]\n",
      "[1 1 1 1 1 1 1]\n"
     ]
    }
   ],
   "source": [
    "env = connect_four_v3.env(render_mode=\"rgb_array\")\n",
    "\n",
    "env.reset()\n",
    "\n",
    "# The main difference with the standard gym api is the way the environment is queried. The `step` method return `None`. To get the data on the environment, use the `last` method\n",
    "state, reward, terminated, truncated, info = env.last()\n",
    "\n",
    "print(state)\n",
    "# state is a dictionary with two keys: observation and action_mask\n",
    "print(\n",
    "    state[\"observation\"].shape\n",
    ")  # Observation is a numpy array with three coordinates, indicating the positions of the pieces of of player 0 and 1 on the the board\n",
    "print(state[\"observation\"][:, :, 0])  # Where the pieces of player 0 are\n",
    "print(state[\"observation\"][:, :, 1])  # Where the pieces of player 1 are\n",
    "\n",
    "print(state[\"action_mask\"])  # an array showing whether the actions are legal or nots (1 is legal, 0 is not, thus it means that a column is full)\n"
   ]
  },
  {
   "cell_type": "code",
   "execution_count": 4,
   "id": "abbd836e",
   "metadata": {},
   "outputs": [
    {
     "name": "stdout",
     "output_type": "stream",
     "text": [
      "(6, 7, 2)\n",
      "[[0 0 0 0 0 0 0]\n",
      " [0 0 0 0 0 0 0]\n",
      " [0 0 0 0 0 0 0]\n",
      " [0 0 0 0 0 0 0]\n",
      " [0 0 0 0 0 0 0]\n",
      " [0 0 0 0 0 0 0]]\n",
      "[[0 0 0 0 0 0 0]\n",
      " [0 0 0 0 0 0 0]\n",
      " [0 0 0 0 0 0 0]\n",
      " [0 0 0 0 0 0 0]\n",
      " [0 0 0 0 0 0 0]\n",
      " [1 0 0 0 0 0 0]]\n",
      "[1 1 1 1 1 1 1]\n"
     ]
    }
   ],
   "source": [
    "env.reset()\n",
    "env.step(0)\n",
    "\n",
    "state, reward, terminated, truncated, info = env.last()\n",
    "\n",
    "\n",
    "print(\n",
    "    state[\"observation\"].shape\n",
    ") \n",
    "print(state[\"observation\"][:, :, 0])  \n",
    "print(state[\"observation\"][:, :, 1])  \n",
    "\n",
    "print(state[\"action_mask\"])"
   ]
  },
  {
   "cell_type": "markdown",
   "id": "92f5bcdf",
   "metadata": {},
   "source": [
    "# Agents\n",
    "\n",
    "Here are some implementations of trivial agents that you should be able to beat ultimately. "
   ]
  },
  {
   "cell_type": "code",
   "execution_count": 5,
   "id": "12f7e8d3",
   "metadata": {},
   "outputs": [],
   "source": [
    "class RandomPlayer:\n",
    "    def __init__(self, rng=None):\n",
    "        if rng is None:\n",
    "            self.rng = np.random.default_rng()\n",
    "        else:\n",
    "            self.rng = rng\n",
    "\n",
    "        self.name = \"Random Player\"\n",
    "\n",
    "    def get_action(self, obs_mask, epsilon=None):\n",
    "        # print(\"Mask before choice :\\n\", obs_mask[\"action_mask\"])\n",
    "        return self.random_choice_with_mask(np.arange(7), obs_mask[\"action_mask\"])\n",
    "\n",
    "    def random_choice_with_mask(self, arr, mask):\n",
    "        masked_arr = np.ma.masked_array(arr, mask=1 - mask)\n",
    "        # print(\"Coups possibles :\\n\", masked_arr)\n",
    "        if masked_arr.count() == 0:\n",
    "            return None\n",
    "        return self.rng.choice(masked_arr.compressed())\n"
   ]
  },
  {
   "cell_type": "code",
   "execution_count": 6,
   "id": "dfcac1b4",
   "metadata": {},
   "outputs": [],
   "source": [
    "class PlayLeftmostLegal:\n",
    "    def __init__(self):\n",
    "        self.name = \"Left Player\"\n",
    "\n",
    "    def get_action(self, obs_mask, epsilon=None):\n",
    "        for i, legal in enumerate(obs_mask[\"action_mask\"]):\n",
    "            if legal:\n",
    "                return i\n",
    "        return None\n"
   ]
  },
  {
   "cell_type": "markdown",
   "id": "1f4fdf7e",
   "metadata": {},
   "source": [
    "# Running a game\n",
    "\n",
    "\n",
    "The following function runs a full game between the two agents. "
   ]
  },
  {
   "cell_type": "code",
   "execution_count": 7,
   "id": "7ff5ca49",
   "metadata": {},
   "outputs": [],
   "source": [
    "def play_game(env, agent0, agent1, display=False):\n",
    "    done = False\n",
    "    env.reset()\n",
    "    obs, _, _, _, _ = env.last()\n",
    "    while not done:\n",
    "        for i, agent in enumerate([agent0, agent1]):\n",
    "            action = agent.get_action(obs, epsilon=0) #action -> entier\n",
    "            #print(\"Action choisie :\\n\", action) \n",
    "            env.step(action)\n",
    "            if display:\n",
    "                clear_output(wait=True)\n",
    "                plt.imshow(env.render())\n",
    "                plt.show()\n",
    "            obs, reward, terminated, _, _ = env.last()\n",
    "            done = terminated\n",
    "            if np.sum(obs[\"action_mask\"]) == 0:\n",
    "                if display: \n",
    "                    print('Draw')\n",
    "                return 0.5\n",
    "            if done:\n",
    "                if display:\n",
    "                    print(f\"Player {i}: {agent.name} won\")\n",
    "                    # print(obs['observation'][:, :, 0]- obs['observation'][:, :, 1])\n",
    "                    \n",
    "                    # print(obs['observation'][:, :, 0])\n",
    "                    \n",
    "                    # print(obs['observation'][:, :, 1])\n",
    "                return i"
   ]
  },
  {
   "cell_type": "code",
   "execution_count": 8,
   "id": "8b1dd4e1",
   "metadata": {},
   "outputs": [],
   "source": [
    "# agent0 = RandomPlayer()\n",
    "# agent1 = PlayLeftmostLegal()\n",
    "\n",
    "# play_game(env, agent0, agent1, display=False)"
   ]
  },
  {
   "cell_type": "code",
   "execution_count": 9,
   "id": "4544abda",
   "metadata": {},
   "outputs": [],
   "source": [
    "# plt.hist([play_game(env, agent0, agent1, display=False) for _ in range(100)])\n",
    "# plt.show()"
   ]
  },
  {
   "cell_type": "markdown",
   "id": "173cc5af",
   "metadata": {},
   "source": [
    "# Emulating a Gym environment\n",
    "\n",
    "If we fix the opposite policy, the game from the point of view of the agent is equivalent to a Gym environment. The following class implements this simulation. Then any algorithm that would work in a gym environment with the same observations will work here. \n",
    "\n",
    "Note that we implemented the possibility to be the first or the second player. "
   ]
  },
  {
   "cell_type": "code",
   "execution_count": 10,
   "id": "a9a2406f",
   "metadata": {},
   "outputs": [],
   "source": [
    "class EnvAgainstPolicy: \n",
    "    def __init__(self, env, policy, first_player=True):\n",
    "        self.policy = policy\n",
    "        self.env = env\n",
    "        self.first_player = first_player\n",
    "        self.reset()\n",
    "\n",
    "    def step(self, action):\n",
    "        self.env.step(action)\n",
    "        obs, reward, terminated, _, _ = self.env.last()\n",
    "        if terminated: \n",
    "            self.last_step = obs, reward, True, False, {}\n",
    "        else: \n",
    "            action = self.policy.get_action(obs)\n",
    "            self.env.step(action)\n",
    "            obs, reward, terminated, _, _ = self.env.last()\n",
    "            self.last_step = obs, -reward, terminated, False, {}\n",
    "        return self.last_step\n",
    "\n",
    "    def reset(self):\n",
    "        self.env.reset()\n",
    "        if not(self.first_player): \n",
    "            obs, _, _, _, _ = self.env.last()\n",
    "            action = self.policy.get_action(obs)\n",
    "            self.env.step(action)\n",
    "\n",
    "        self.last_step = self.env.last()\n",
    "        return self.last_step\n",
    "\n",
    "    def last(self):\n",
    "        return self.last_step"
   ]
  },
  {
   "cell_type": "markdown",
   "id": "3cb3fab1",
   "metadata": {},
   "source": [
    "# Evaluating an agent against a fixed policy: \n",
    "\n",
    "Using the environment above, we can evaluate the agent against this fixed policy. "
   ]
  },
  {
   "cell_type": "code",
   "execution_count": 11,
   "id": "607783c5",
   "metadata": {},
   "outputs": [],
   "source": [
    "def eval_against_policy(env, agent, policy, N_episodes=10, first_player=True):\n",
    "    eval_env = EnvAgainstPolicy(env, policy, first_player=first_player)\n",
    "    results = []\n",
    "    for _ in range(N_episodes):\n",
    "        done = False\n",
    "        eval_env.reset()\n",
    "        obs, _, _, _, _ = eval_env.last()\n",
    "        while not done:\n",
    "            action = agent.get_action(obs, epsilon=0)\n",
    "            eval_env.step(action)\n",
    "            obs, reward, done, _, _ = eval_env.last()\n",
    "        results.append(reward)\n",
    "    return results"
   ]
  },
  {
   "cell_type": "markdown",
   "id": "da1790b4",
   "metadata": {},
   "source": [
    "We can see that if both players play randomly, there is a small but significant advantage to the first player. "
   ]
  },
  {
   "cell_type": "code",
   "execution_count": 12,
   "id": "38debdc5",
   "metadata": {},
   "outputs": [],
   "source": [
    "# plt.hist(eval_against_policy(env, RandomPlayer(), RandomPlayer(), N_episodes=1000, first_player=False))\n",
    "# plt.show()\n",
    "# plt.hist(eval_against_policy(env, RandomPlayer(), RandomPlayer(), N_episodes=1000, first_player=True))\n",
    "# plt.show()"
   ]
  },
  {
   "cell_type": "markdown",
   "id": "79580594",
   "metadata": {},
   "source": [
    "# Your turn \n",
    "\n",
    "Try to build a decent agent. Be creative! You can try any idea that you have: the grade is not about performance of the agent, but more about illustrating phenomena happening in Reinforcement Learning for turn-based games. It's okay to 'help' the agent in any way, as long as it follows the ideas of RL (i.e., as long as there is some learning involved).\n",
    "\n",
    "\n"
   ]
  },
  {
   "cell_type": "markdown",
   "id": "8f62771e",
   "metadata": {},
   "source": [
    "## Technical choices\n",
    "\n",
    "To train our agent in Connect4, we chose to implement a Q-Learning algorithm.\n",
    "\n",
    "How the Q-learning algorithm works:\n",
    "\n",
    "The Q-learning algorithm is a reinforcement method that allows an agent to learn to make decisions based on the expected value of future rewards.\n",
    "\n",
    "For each possible state of the game, the agent maintains a table Q(s, a) of expected utility values for each possible action a, assuming that the agent follows an optimal policy.\n",
    "\n",
    "The agent chooses an action based on the current state of the game, selecting the action that maximises the expected value of future rewards.\n",
    "\n",
    "The agent updates the value of Q(s, a) according to the actual reward it receives for this action and the value of Q(s+1, a+1) for the next state and action, using the Q-learning update formula:\n",
    "\n",
    "Q(s, a) <- Q(s, a) + alpha * (r + gamma * max(Q(s+1, a+1)) - Q(s, a))\n",
    "\n",
    "With alpha the learning rate, gamma the discount rate (which prioritises immediate rather than future rewards), r is the actual reward for the action taken, and max(Q(s+1, a+1)) is the maximum expected value of future rewards for the next state s+1 and all possible actions a+1."
   ]
  },
  {
   "cell_type": "markdown",
   "id": "f47ea9c9",
   "metadata": {},
   "source": [
    "## Initialization of parameters"
   ]
  },
  {
   "cell_type": "code",
   "execution_count": 13,
   "id": "3cd36961",
   "metadata": {},
   "outputs": [],
   "source": [
    "# EPISODES = 10000\n",
    "# EPSILON = 0.1\n",
    "# ALPHA = 0.2\n",
    "# GAMMA = 0.9"
   ]
  },
  {
   "cell_type": "markdown",
   "id": "b12cc472",
   "metadata": {},
   "source": [
    "## Initialization of the Q table\n",
    "\n",
    "Table Q will contain the action-state values for each state and each possible action. In this case, there are 2^42 possible states (2 for each grid cell) and 7 possible actions (one for each grid column):"
   ]
  },
  {
   "cell_type": "code",
   "execution_count": 14,
   "id": "4a1a60e5",
   "metadata": {},
   "outputs": [],
   "source": [
    "# Q = np.zeros((2**42, 7), dtype='uint8')"
   ]
  },
  {
   "cell_type": "markdown",
   "id": "e930cffa",
   "metadata": {},
   "source": [
    "## Training the agent in the environment\n",
    "\n",
    "Training the agent by running episodes in the Connect Four environment."
   ]
  },
  {
   "cell_type": "code",
   "execution_count": 15,
   "id": "4470bf64",
   "metadata": {},
   "outputs": [],
   "source": [
    "# \"\"\"\n",
    "# Création d'une instance de l'environnement Connect Four V3 de PettingZoo. \n",
    "\n",
    "# Cet environnement a deux agents, chacun jouant un pion différent.\n",
    "# Le but est d'aligner quatre pions de la même couleur sur une grille de 6x7 cases.\n",
    "# \"\"\"\n",
    "# env = connect_four_v3.env()\n",
    "\n",
    "# for i in range(EPISODES): #Un épisode correspond à une itération d'entraînement de l'agent (Il s'agit d'une partie complète)\n",
    "#     obs = env.reset() #On réinitialise l'environnement pour que l'agent à chaque itération apprenne à jouer d'un état initial de la grille\n",
    "#     done = False #Condition de sortie de la boucle (lorsque la partie est terminée)\n",
    "#     while not done:\n",
    "        \n",
    "#         \"\"\"\n",
    "#         Choix d'une action basée sur la politique epsilon-greedy\n",
    "        \n",
    "#         Si le nombre aléatoire généré est inférieur à epsilon :\n",
    "#              - l'agent choisit une action aléatoire parmi les actions possibles\n",
    "\n",
    "#         Sinon :\n",
    "#             - il choisit l'action qui maximise la valeur Q de l'état actuel.\n",
    "#         \"\"\"\n",
    "        \n",
    "#         if np.random.uniform() < EPSILON: \n",
    "#             action = np.random.choice(env.action_spaces[\"player_0\"])\n",
    "#         else:\n",
    "#             state = np.ravel_multi_index((obs['board'], obs['mark']), (2, 3) * (6,))\n",
    "#             action = np.argmax(Q[state])\n",
    "            \n",
    "#         #L'environnement effectue ensuite l'action choisie par l'agent et renvoie la nouvelle observation, la récompense, si l'épisode est terminé et des informations supplémentaires.\n",
    "#         new_obs, reward, done, _ = env.step(action)\n",
    "#         new_state = np.ravel_multi_index((new_obs['board'], new_obs['mark']), (2, 3) * (6,))\n",
    "        \n",
    "#         # Update Q-table\n",
    "#         Q[state, action] += ALPHA * (reward + GAMMA * np.max(Q[new_state]) - Q[state, action])\n",
    "#         # Update state\n",
    "#         obs = new_obs"
   ]
  },
  {
   "cell_type": "markdown",
   "id": "bb2517fc",
   "metadata": {},
   "source": [
    "We then realised that it was not possible to use Q-Learning to solve this problem as there are too many states in Connect4... A method approximating the Q-function would be better able to meet our need. \n",
    "\n",
    "Indeed, it would consist in approximating the Q-value function by a parametric function learned by the agent.\n",
    "\n",
    "To do this we will first implement a Deep Q-Network (DQN). This is an extension of Q-Learning that uses a neural network to approximate the Q-function. DQNs are particularly effective for tasks that have complex state spaces and discrete actions."
   ]
  },
  {
   "cell_type": "markdown",
   "id": "a5b63768",
   "metadata": {},
   "source": [
    "## DQN"
   ]
  },
  {
   "cell_type": "markdown",
   "id": "4d5932b8",
   "metadata": {},
   "source": [
    "We start by setting up the architecture of the neural network used to approximate the Q function. \n",
    "\n",
    "The network architecture is composed of three fully connected layers of different sizes. The first two layers each have 128 neurons and use a ReLU activation function to introduce non-linearity into the network. The last layer has no activation function and directly returns the Q-values for the different actions.\n",
    "\n",
    "The model uses the Adam optimisation algorithm for updating the network weights during training."
   ]
  },
  {
   "cell_type": "markdown",
   "id": "de2e083c",
   "metadata": {},
   "source": [
    "### 1 - Replay buffer\n",
    "\n",
    "A replay buffer is a memory structure used in reinforcement learning (RL) algorithms that store the experiences of an agent during its interactions with the environment.\n",
    "\n",
    "During training, the agent uses the replay buffer to randomly sample and replay a batch of past experiences to update its policy or value function. This process of reusing past experiences is known as experience replay.\n",
    "\n",
    "The replay buffer stores the experiences as tuples of state, action, reward, next state, and done signal, which are observed by the agent at each time step. This allows the agent to learn from the full range of experiences it has encountered, rather than only from the most recent experiences. (Practical session function, no changes) "
   ]
  },
  {
   "cell_type": "code",
   "execution_count": 16,
   "id": "d1b62b93",
   "metadata": {},
   "outputs": [],
   "source": [
    "class ReplayBuffer:\n",
    "    def __init__(self, capacity):\n",
    "        self.capacity = capacity\n",
    "        self.memory = []\n",
    "        self.position = 0\n",
    "\n",
    "    def push(self, state, action, reward, terminated, next_state):\n",
    "        \n",
    "        if len(self.memory) < self.capacity:\n",
    "            self.memory.append(None)\n",
    "        self.memory[self.position] = (state, action, reward, terminated, next_state)\n",
    "        self.position = (self.position + 1) % self.capacity\n",
    "\n",
    "    def sample(self, batch_size):\n",
    "        return rd.choices(self.memory, k=batch_size)\n",
    "\n",
    "    def __len__(self):\n",
    "        return len(self.memory)"
   ]
  },
  {
   "cell_type": "markdown",
   "id": "5b260b01",
   "metadata": {},
   "source": [
    "### 2 - Neural Network\n",
    "\n",
    "The deep neural network contains three linear layers. The first two layers each have 128 neurons and use a ReLU activation function. The final layer contains \"n_actions\" neurons and does not have an activation function. The Adam optimiser is used to update the weights of the neural network with a learning rate specified by \"lr\"."
   ]
  },
  {
   "cell_type": "code",
   "execution_count": 17,
   "id": "88a663db",
   "metadata": {},
   "outputs": [],
   "source": [
    "class DQN(nn.Module):\n",
    "    \"\"\"\n",
    "    Classe implémentant un réseau de neurones profond pour approximer la fonction Q d'un environnement de RL\n",
    "    Paramètres :\n",
    "        \"obs_size\" (tuple): that specifies the shape of the input to the neural network, i.e. the size of the state of the environment\n",
    "        \"n_actions\" (int): number of actions available in the environment\n",
    "        \"lr\" (float): the learning rate used to optimise the neural network weights.\n",
    "    \"\"\"\n",
    "    def __init__(self, obs_size, n_actions, lr):\n",
    "        super().__init__()\n",
    "        input_size = obs_size[0]*obs_size[1]*obs_size[2]\n",
    "        self.fc1 = nn.Linear(input_size, 128)\n",
    "        self.fc2 = nn.Linear(128, 128)\n",
    "        self.fc3 = nn.Linear(128, n_actions)\n",
    "        self.optimizer = optim.Adam(self.parameters(), lr=lr)\n",
    "\n",
    "    def forward(self, x):\n",
    "        x = x.float()\n",
    "        x = x.view(x.size(0), -1)\n",
    "        x = torch.relu(self.fc1(x))\n",
    "        x = torch.relu(self.fc2(x))\n",
    "        x = self.fc3(x)\n",
    "        return x"
   ]
  },
  {
   "cell_type": "markdown",
   "id": "99a13861",
   "metadata": {},
   "source": [
    "### 3 - Function used in DQN Agent class"
   ]
  },
  {
   "cell_type": "markdown",
   "id": "7a249cc3",
   "metadata": {},
   "source": [
    "First, we defined the get_q function. It allows us to put a state into the neural network and get the approximate Q function. (Practical session function, no changes) "
   ]
  },
  {
   "cell_type": "code",
   "execution_count": 18,
   "id": "eedd9450",
   "metadata": {},
   "outputs": [],
   "source": [
    "# def get_q(self, state):\n",
    "#     state_tensor = torch.tensor(state).unsqueeze(0)\n",
    "#     with torch.no_grad():\n",
    "#         output = self.q_net.forward(state_tensor)\n",
    "#     return output.numpy()[0]  "
   ]
  },
  {
   "cell_type": "markdown",
   "id": "41cf289e",
   "metadata": {},
   "source": [
    "Get_action function, use in the DQNAgent class to get the action that maximizes the agent's expected reward as estimated by its Q-values for the given state.\n",
    "\n",
    "This function return an action according to an epsilon-greedy exploration policy. (Practical session function, no changes) "
   ]
  },
  {
   "cell_type": "code",
   "execution_count": 19,
   "id": "44d67979",
   "metadata": {},
   "outputs": [],
   "source": [
    "# def get_action(self, state, epsilon=None):\n",
    "    \n",
    "#     if epsilon is None: \n",
    "#         epsilon = self.epsilon\n",
    "\n",
    "#     if np.random.rand() < epsilon: \n",
    "#         return self.env.action_space.sample() #Try an other command if it doesn't work in petting zoo env\n",
    "#     else: \n",
    "#         return np.argmax(self.get_q(state))"
   ]
  },
  {
   "cell_type": "markdown",
   "id": "9e88df4a",
   "metadata": {},
   "source": [
    "Update function (Practical session function, no changes)\n",
    "\n",
    "The main goal of the update function is to optimize the parameters of the Q-network based on the experiences collected by the agent during the interaction with the environment.\n",
    "\n",
    "The DQN algorithm uses a neural network (the Q-network) to approximate the Q-values of the state-action pairs. During training, the agent collects experiences by taking actions in the environment and observing the resulting rewards and next states. These experiences are stored in a replay buffer.\n",
    "\n",
    "The update function takes a batch of experiences from the replay buffer and uses them to update the Q-network's parameters via backpropagation. More specifically, the update function calculates the loss between the predicted Q-values and the target Q-values for each experience in the batch, and then uses stochastic gradient descent (or a related optimization algorithm) to update the Q-network's weights to minimize this loss.\n",
    "\n",
    "By repeatedly updating the Q-network's parameters in this way, the DQN algorithm learns to approximate the optimal Q-function, which provides a mapping from states to the expected cumulative reward for each action, and can be used to guide the agent's action selection in the environment."
   ]
  },
  {
   "cell_type": "code",
   "execution_count": 20,
   "id": "044cd037",
   "metadata": {},
   "outputs": [],
   "source": [
    "# def update(self, state, action, reward, terminated, next_state):\n",
    "\n",
    "#         # add data to replay buffer\n",
    "#         self.buffer.push(torch.tensor(state).unsqueeze(0), \n",
    "#                            torch.tensor([[action]], dtype=torch.int64), \n",
    "#                            torch.tensor([reward]), \n",
    "#                            torch.tensor([terminated], dtype=torch.int64), \n",
    "#                            torch.tensor(next_state).unsqueeze(0),\n",
    "#                           )\n",
    "\n",
    "#         if len(self.buffer) < self.batch_size:\n",
    "#             return np.inf\n",
    "\n",
    "#         # get batch\n",
    "#         transitions = self.buffer.sample(self.batch_size)\n",
    "\n",
    "#         state_batch, action_batch, reward_batch, terminated_batch, next_state_batch = tuple(\n",
    "#             [torch.cat(data) for data in zip(*transitions)]\n",
    "#         )\n",
    "\n",
    "#         values  = self.q_net.forward(state_batch).gather(1, action_batch)\n",
    "\n",
    "#         # Compute the ideal Q values\n",
    "#         with torch.no_grad():\n",
    "#             next_state_values = (1 - terminated_batch) * self.target_net(next_state_batch).max(1)[0]\n",
    "#             targets = next_state_values * self.gamma + reward_batch\n",
    "\n",
    "#         loss = self.loss_function(values, targets.unsqueeze(1))\n",
    "\n",
    "#         # Optimize the model \n",
    "#         self.optimizer.zero_grad()\n",
    "#         loss.backward()\n",
    "#         #torch.nn.utils.clip_grad_value_(self.q_net.parameters(), 100)\n",
    "#         self.optimizer.step()\n",
    "        \n",
    "#         if not((self.n_steps+1) % self.update_target_every): \n",
    "#             self.target_net.load_state_dict(self.q_net.state_dict())\n",
    "            \n",
    "#         self.decrease_epsilon()\n",
    "            \n",
    "#         self.n_steps += 1\n",
    "#         if terminated: \n",
    "#             self.n_eps += 1\n",
    "\n",
    "#         return loss.detach().numpy()"
   ]
  },
  {
   "cell_type": "code",
   "execution_count": 21,
   "id": "548f50d2",
   "metadata": {},
   "outputs": [],
   "source": [
    "class DQNAgent:\n",
    "\n",
    "    \"\"\"\n",
    "    A DQNAgent represents an agent that uses a Deep Q-Network (DQN) to approximate the Q-function of a given environment.\n",
    "\n",
    "    Args:\n",
    "    \n",
    "        env : \n",
    "        action_space :\n",
    "        observation_space :\n",
    "        gamma :\n",
    "        batch_size : \n",
    "        buffer_capacity :\n",
    "        update_target_every : \n",
    "        epsilon_start :\n",
    "        decrease_epsilon_factor : \n",
    "        epsilon_min :\n",
    "        learning_rate :\n",
    "    \n",
    "    \"\"\"\n",
    "    id = 0\n",
    "\n",
    "    def __init__(self,\n",
    "                env,\n",
    "                action_space,\n",
    "                observation_space,\n",
    "                gamma,\n",
    "                batch_size,\n",
    "                buffer_capacity,\n",
    "                update_target_every, \n",
    "                epsilon_start, \n",
    "                decrease_epsilon_factor, \n",
    "                epsilon_min,\n",
    "                learning_rate,\n",
    "                ): \n",
    "        \n",
    "        DQNAgent.id += 1\n",
    "        self.name = f\"DQNAgent{DQNAgent.id}\"\n",
    "        self.env = env\n",
    "        self.action_space = action_space\n",
    "        self.observation_space = observation_space\n",
    "        self.gamma = gamma\n",
    "        \n",
    "        self.batch_size = batch_size\n",
    "        self.buffer_capacity = buffer_capacity\n",
    "        self.update_target_every = update_target_every\n",
    "        \n",
    "        self.epsilon_start = epsilon_start\n",
    "        self.decrease_epsilon_factor = decrease_epsilon_factor # larger -> more exploration\n",
    "        self.epsilon_min = epsilon_min\n",
    "        \n",
    "        self.learning_rate = learning_rate\n",
    "        \n",
    "        self.reset()\n",
    "\n",
    "    def get_action(self, state, epsilon=None):\n",
    "        if epsilon is None: \n",
    "            epsilon = self.epsilon_start\n",
    "\n",
    "#         if np.random.rand() < epsilon: \n",
    "#             return self.env.action_space.sample() #Try an other command if it doesn't work in petting zoo env\n",
    "#         else: \n",
    "        return np.argmax(self.get_q(state))\n",
    "\n",
    "    \n",
    "    def update(self, state, action, reward, terminated, next_state):\n",
    "        # add data to replay buffer\n",
    "        self.buffer.push(torch.tensor(state[\"observation\"]).unsqueeze(0), \n",
    "                           torch.tensor([[action]], dtype=torch.int64), \n",
    "                           torch.tensor([reward]), \n",
    "                           torch.tensor([terminated], dtype=torch.int64), \n",
    "                           torch.tensor(next_state[\"observation\"]).unsqueeze(0),\n",
    "                          )\n",
    "\n",
    "        if len(self.buffer) < self.batch_size:\n",
    "            return np.inf\n",
    "\n",
    "        # get batch\n",
    "        transitions = self.buffer.sample(self.batch_size)\n",
    "\n",
    "        state_batch, action_batch, reward_batch, terminated_batch, next_state_batch = tuple(\n",
    "            [torch.cat(data) for data in zip(*transitions)]\n",
    "        )\n",
    "\n",
    "        values  = self.q_net.forward(state_batch).gather(1, action_batch)\n",
    "\n",
    "        # Compute the ideal Q values\n",
    "        with torch.no_grad():\n",
    "            next_state_values = (1 - terminated_batch) * self.target_net(next_state_batch).max(1)[0]\n",
    "            targets = next_state_values * self.gamma + reward_batch\n",
    "\n",
    "        loss = self.loss_function(values, targets.unsqueeze(1))\n",
    "\n",
    "        # Optimize the model \n",
    "        self.optimizer.zero_grad()\n",
    "        loss.backward()\n",
    "        #torch.nn.utils.clip_grad_value_(self.q_net.parameters(), 100)\n",
    "        self.optimizer.step()\n",
    "        \n",
    "        if not((self.n_steps+1) % self.update_target_every): \n",
    "            self.target_net.load_state_dict(self.q_net.state_dict())\n",
    "            \n",
    "        self.decrease_epsilon()\n",
    "            \n",
    "        self.n_steps += 1\n",
    "        if terminated: \n",
    "            self.n_eps += 1\n",
    "\n",
    "        return loss.detach().numpy()\n",
    "\n",
    "\n",
    "    def get_q(self, state):    \n",
    "        state_tensor = torch.tensor(state[\"observation\"]).unsqueeze(0)\n",
    "        mask = state[\"action_mask\"]\n",
    "        #print(state_tensor)\n",
    "        \n",
    "        with torch.no_grad():\n",
    "            output = self.q_net.forward(state_tensor)\n",
    "            #print(output)\n",
    "            for i in range(len(mask)):\n",
    "                if(mask[i]!=1):\n",
    "                    output.numpy()[0][i] = -np.inf\n",
    "            \n",
    "        return output.numpy()[0]\n",
    "    \n",
    "    def decrease_epsilon(self):\n",
    "        self.epsilon = self.epsilon_min + (self.epsilon_start - self.epsilon_min) * (\n",
    "                        np.exp(-1. * self.n_eps / self.decrease_epsilon_factor ) )\n",
    "    \n",
    "    def reset(self):\n",
    "        hidden_size = 128\n",
    "\n",
    "        obs_size = self.observation_space\n",
    "        n_actions = len(self.action_space)\n",
    "\n",
    "        self.buffer = ReplayBuffer(self.buffer_capacity)\n",
    "        self.q_net =  DQN(obs_size, n_actions, self.learning_rate)\n",
    "        self.target_net = DQN(obs_size, n_actions, self.learning_rate)\n",
    "\n",
    "        self.loss_function = nn.MSELoss()\n",
    "        self.optimizer = optim.Adam(params=self.q_net.parameters(), lr=self.learning_rate)\n",
    "\n",
    "        self.epsilon = self.epsilon_start\n",
    "        self.n_steps = 0\n",
    "        self.n_eps = 0\n"
   ]
  },
  {
   "cell_type": "code",
   "execution_count": 22,
   "id": "496f3ba6",
   "metadata": {},
   "outputs": [],
   "source": [
    "class PlayOnlyOnOtherPlayer:\n",
    "    def __init__(self):\n",
    "        self.name = \"PlayOnlyOnOtherPlayer\"\n",
    "    \n",
    "    def line_has_1(self, line):\n",
    "        for i in range(7):\n",
    "            if line[i] == 1:\n",
    "                return True\n",
    "        return False\n",
    "\n",
    "    def get_action(self, obs, epsilon=None):\n",
    "        adversaire_matrix = obs['observation'][:, :, 1] - obs['observation'][:, :, 0]\n",
    "        for i in range(len(adversaire_matrix)):\n",
    "            if (self.line_has_1(adversaire_matrix[i]) and i==0):\n",
    "                for j in range(7):\n",
    "                    if(adversaire_matrix[i][j]==0 and obs[\"action_mask\"][j]!=0):\n",
    "                        return j\n",
    "            else:\n",
    "                if not self.line_has_1(adversaire_matrix[i]):\n",
    "                    continue\n",
    "                for j in range(7):\n",
    "                    if(adversaire_matrix[i][j]==1 and obs[\"action_mask\"][j]!=0):\n",
    "                        return j\n",
    "                return list(obs[\"action_mask\"]).index(1)\n",
    "        return 0"
   ]
  },
  {
   "cell_type": "markdown",
   "id": "93708fa7",
   "metadata": {},
   "source": [
    "Defining of the train function. In the case of Connect4 game, one session need two players -> We will train then two agents simultenaoulsy."
   ]
  },
  {
   "cell_type": "markdown",
   "id": "ff86369d",
   "metadata": {},
   "source": [
    "Defining of the evaluation function: (Practical session function, no changes)"
   ]
  },
  {
   "cell_type": "code",
   "execution_count": 23,
   "id": "d725de43",
   "metadata": {},
   "outputs": [],
   "source": [
    "def eval_agent(agent0, agent1, env, n_sim=5):\n",
    "    env_copy = deepcopy(env)\n",
    "    episode_rewards = np.zeros(n_sim)\n",
    "    for i in range(n_sim):\n",
    "        env_copy.reset()\n",
    "        state, _, _, _, _ = env_copy.last()\n",
    "        reward_sum = 0\n",
    "        done = False\n",
    "        while not done: \n",
    "            for j, agent in enumerate([agent0, agent1]):\n",
    "                action = agent.get_action(state, 0)\n",
    "                env_copy.step(action)\n",
    "                state, reward, terminated, truncated, _ = env_copy.last()\n",
    "                if j == 0:\n",
    "                    reward_sum += reward\n",
    "                done = terminated or truncated\n",
    "                if done: #Is the game over? \n",
    "                    break\n",
    "            episode_rewards[i] = reward_sum\n",
    "    return episode_rewards"
   ]
  },
  {
   "cell_type": "code",
   "execution_count": 24,
   "id": "5cad58d7",
   "metadata": {},
   "outputs": [],
   "source": [
    "from tqdm import tqdm\n",
    "\n",
    "def train(\n",
    "        env,\n",
    "        agent0,\n",
    "        agents,\n",
    "        N_episodes,\n",
    "        eval_every=10,\n",
    "        reward_threshold=300\n",
    "    ):\n",
    "    \n",
    "    losses_agent0 = [] # Saving loss of first agent\n",
    "    # losses_agent1 = [] # Saving loss of second agent\n",
    "    save_reward = 0 # reward variable (Allowing to stop training, if one agent reach a giving score)\n",
    "    cumulated_won_games = []\n",
    "\n",
    "    for ep in tqdm(range(N_episodes)): # One ep, is like one epoch of training in ML (Here the agent will play one game until there's a winner)\n",
    "        losses_ep_0, losses_ep_1 = [], []\n",
    "        # Different possibles opponents\n",
    "        if len(agents) > 1:\n",
    "            id = rd.randint(0, len(agents) - 1)\n",
    "            agent1 = agents[id]\n",
    "        # Only one type of opponent\n",
    "        else:\n",
    "            agent1 = agents[0]\n",
    "\n",
    "        # We change the first player at each game\n",
    "        players = [(agent1, 1), (agent0, 0)]\n",
    "        if ep%2==0:\n",
    "            players = [(agent0, 0), (agent1, 1)]\n",
    "\n",
    "        done = False # Bool to check if the game is finished, after the agent's move on the grid.\n",
    "\n",
    "        # Game start, we put the state as the initial state\n",
    "        env.reset()\n",
    "        state, _, _, _, _ = env.last()\n",
    "\n",
    "        # 1 game\n",
    "        while not done:\n",
    "            for agent, i in players: # The agents play one after another\n",
    "                action =  agent.get_action(state, None) # Getting of the most interesting move\n",
    "\n",
    "                env.step(action) #Update of the grid, to compute the loss \n",
    "                next_state, reward, terminated, truncated, _ = env.last()\n",
    "\n",
    "                if agent.name not in [\"Random Player\", \"Left Player\", \"PlayOnlyOnOtherPlayer\"]:\n",
    "                    loss_val = agent.update(state, action, reward, terminated, next_state)\n",
    "\n",
    "                    #Loss saving\n",
    "                    if(i==0):\n",
    "                        losses_ep_0.append(loss_val) \n",
    "                    # else:\n",
    "                    #     losses_ep_1.append(loss_val)\n",
    "\n",
    "                state = next_state #We update the grid state for the next player\n",
    "\n",
    "                done = terminated or truncated \n",
    "                \n",
    "                if done: #Is the game over?\n",
    "                    # Saving cumulated won games by agent 0\n",
    "                    if i==0: # agent won the game\n",
    "                        try:\n",
    "                            number_of_won_games = 1 + cumulated_won_games[-1]\n",
    "                        except:\n",
    "                            number_of_won_games = 1\n",
    "                    else: # agent lost the game\n",
    "                        try:\n",
    "                            number_of_won_games = cumulated_won_games[-1]\n",
    "                        except:\n",
    "                            number_of_won_games = 0\n",
    "                    cumulated_won_games.append(number_of_won_games)\n",
    "                    break\n",
    "\n",
    "        \n",
    "        # Eval step, each \"eval_every\" we print the reward and save the losses\n",
    "        if ((ep+1)% eval_every == 0):\n",
    "            # rewards = eval_agent(agent0, agents[0], env, n_sim=100)\n",
    "            # print(\"ep\", ep, sum(rewards))\n",
    "\n",
    "            losses_agent0.append(np.mean(losses_ep_0))\n",
    "            # losses_agent1.append(np.mean(losses_ep_1))\n",
    "            \n",
    "    return losses_agent0, cumulated_won_games"
   ]
  },
  {
   "cell_type": "code",
   "execution_count": 25,
   "id": "51b1fb77",
   "metadata": {},
   "outputs": [],
   "source": [
    "# Defining of the environment \n",
    "env = connect_four_v3.env(render_mode=\"rgb_array\")\n",
    "env.reset()\n",
    "state, reward, terminated, truncated, info = env.last()\n",
    "\n",
    "action_space = state[\"action_mask\"]\n",
    "observation_space = state[\"observation\"].shape\n",
    "# Defining of all the parameters\n",
    "gamma = 0.79 # Changed\n",
    "batch_size = 128\n",
    "buffer_capacity = 10_000\n",
    "update_target_every = 32\n",
    "\n",
    "epsilon_start = 0.9\n",
    "decrease_epsilon_factor = 5\n",
    "epsilon_min = 0.05\n",
    "\n",
    "learning_rate = 1e-1\n",
    "\n",
    "N_episodes = 1000\n",
    "\n",
    "# Initialization of agents\n",
    "DQNAgent.id = 0\n",
    "\n",
    "agent_trained_on_rd = DQNAgent(env, action_space, observation_space, gamma, batch_size, buffer_capacity, update_target_every, epsilon_start, decrease_epsilon_factor, epsilon_min, learning_rate)\n",
    "agent_trained_on_him = DQNAgent(env, action_space, observation_space, gamma, batch_size, buffer_capacity, update_target_every, epsilon_start, decrease_epsilon_factor, epsilon_min, learning_rate)\n",
    "agent_trained_on_three = DQNAgent(env, action_space, observation_space, gamma, batch_size, buffer_capacity, update_target_every, epsilon_start, decrease_epsilon_factor, epsilon_min, learning_rate)\n",
    "agent_trained_sequentially = DQNAgent(env, action_space, observation_space, gamma, batch_size, buffer_capacity, update_target_every, epsilon_start, decrease_epsilon_factor, epsilon_min, learning_rate)\n",
    "\n",
    "\n",
    "def main():\n",
    "    \n",
    "    losses = [[] for _ in range(4)]\n",
    "    cumulated_won_games = [[] for _ in range(4)]\n",
    "\n",
    "    # Possible oponent\n",
    "    agent_rd = RandomPlayer()\n",
    "    agent_left = PlayLeftmostLegal()\n",
    "    agent_play_on_other = PlayOnlyOnOtherPlayer()\n",
    "\n",
    "    # Training agent against RD player, with player 1 changing at each game\n",
    "    print(\"Training agent 1 against RD player\")\n",
    "    loss, wongames = train(env, agent_trained_on_rd, [agent_rd], N_episodes, eval_every=10, reward_threshold=3000)\n",
    "    losses[0] = loss\n",
    "    cumulated_won_games[0] = wongames\n",
    "\n",
    "\n",
    "    # Training agent against himself, with player 1 changing at each game\n",
    "    print(\"Training agent 2 against himself\")\n",
    "    loss, wongames = train(env, agent_trained_on_him, [agent_trained_on_him], N_episodes, eval_every=10, reward_threshold=3000)\n",
    "    losses[1] = loss\n",
    "    cumulated_won_games[1] = wongames\n",
    "\n",
    "\n",
    "    # Training agent against RD player, PlayOnOther and himself randolmy chosen at each game\n",
    "    print(\"Training agent 3 against three possible opponents with random choice at each game\")\n",
    "    loss, wongames = train(env, agent_trained_on_three, [agent_rd, agent_play_on_other, agent_trained_on_three], N_episodes, eval_every=10, reward_threshold=3000)\n",
    "    losses[2] = loss\n",
    "    cumulated_won_games[2] = wongames\n",
    "\n",
    "\n",
    "    # Training agent against RD player, PlayOnOther and himself sequentially\n",
    "    print(\"Training agent 4 sequentially against three possible opponents\")\n",
    "    loss, wongames = train(env, agent_trained_sequentially, [agent_rd], N_episodes//3, eval_every=10, reward_threshold=3000)\n",
    "    losses[3] += loss\n",
    "    cumulated_won_games[3] += wongames\n",
    "\n",
    "    loss, wongames = train(env, agent_trained_sequentially, [agent_play_on_other], N_episodes//3, eval_every=10, reward_threshold=3000)\n",
    "    losses[3] += loss\n",
    "    cumulated_won_games[3] += [won + cumulated_won_games[3][-1] for won in wongames]\n",
    "\n",
    "    loss, wongames = train(env, agent_trained_sequentially, [agent_trained_sequentially], N_episodes//3, eval_every=10, reward_threshold=3000)\n",
    "    losses[3] += loss\n",
    "    cumulated_won_games[3] += [won + cumulated_won_games[3][-1] for won in wongames]\n",
    "\n",
    "    return losses, cumulated_won_games\n"
   ]
  },
  {
   "cell_type": "code",
   "execution_count": 26,
   "id": "d08f6980",
   "metadata": {},
   "outputs": [
    {
     "name": "stdout",
     "output_type": "stream",
     "text": [
      "Training agent 1 against RD player\n"
     ]
    },
    {
     "name": "stderr",
     "output_type": "stream",
     "text": [
      "100%|██████████| 1000/1000 [00:29<00:00, 34.27it/s]\n"
     ]
    },
    {
     "name": "stdout",
     "output_type": "stream",
     "text": [
      "Training agent 2 against himself\n"
     ]
    },
    {
     "name": "stderr",
     "output_type": "stream",
     "text": [
      "100%|██████████| 1000/1000 [02:04<00:00,  8.02it/s]\n"
     ]
    },
    {
     "name": "stdout",
     "output_type": "stream",
     "text": [
      "Training agent 3 against three possible opponents with random choice at each game\n"
     ]
    },
    {
     "name": "stderr",
     "output_type": "stream",
     "text": [
      "100%|██████████| 1000/1000 [01:17<00:00, 12.84it/s]\n"
     ]
    },
    {
     "name": "stdout",
     "output_type": "stream",
     "text": [
      "Training agent 4 sequentially against three possible opponents\n"
     ]
    },
    {
     "name": "stderr",
     "output_type": "stream",
     "text": [
      "100%|██████████| 333/333 [00:10<00:00, 32.39it/s]\n",
      "100%|██████████| 333/333 [00:13<00:00, 25.27it/s]\n",
      "100%|██████████| 333/333 [00:48<00:00,  6.87it/s]\n"
     ]
    }
   ],
   "source": [
    "losses, cumulated_won_games = main()"
   ]
  },
  {
   "cell_type": "code",
   "execution_count": 27,
   "id": "4450d486",
   "metadata": {},
   "outputs": [
    {
     "data": {
      "image/png": "[encoded data removed]",
      "text/plain": [
       "<Figure size 640x480 with 1 Axes>"
      ]
     },
     "metadata": {},
     "output_type": "display_data"
    },
    {
     "data": {
      "image/png": "[encoded data removed]",
      "text/plain": [
       "<Figure size 640x480 with 1 Axes>"
      ]
     },
     "metadata": {},
     "output_type": "display_data"
    },
    {
     "data": {
      "image/png": "[encoded data removed]",
      "text/plain": [
       "<Figure size 640x480 with 1 Axes>"
      ]
     },
     "metadata": {},
     "output_type": "display_data"
    },
    {
     "data": {
      "image/png": "[encoded data removed]",
      "text/plain": [
       "<Figure size 640x480 with 1 Axes>"
      ]
     },
     "metadata": {},
     "output_type": "display_data"
    }
   ],
   "source": [
    "# print(\"Number of won games during training:\", won_games, \"/\", N_episodes, \"\\n\")\n",
    "plt.title(\"Cumul des parties gagnées agent 1\")\n",
    "plt.plot(cumulated_won_games[0])\n",
    "plt.show()\n",
    "\n",
    "plt.title(\"Cumul des parties gagnées agent 2\")\n",
    "plt.plot(cumulated_won_games[1])\n",
    "plt.show()\n",
    "\n",
    "plt.title(\"Cumul des parties gagnées agent 3\")\n",
    "plt.plot(cumulated_won_games[2])\n",
    "plt.show()\n",
    "\n",
    "plt.title(\"Cumul des parties gagnées agent 4\")\n",
    "plt.plot(cumulated_won_games[3])\n",
    "plt.show()"
   ]
  },
  {
   "cell_type": "code",
   "execution_count": 28,
   "id": "6d71dd5e",
   "metadata": {},
   "outputs": [
    {
     "data": {
      "image/png": "[encoded data removed]",
      "text/plain": [
       "<Figure size 640x480 with 1 Axes>"
      ]
     },
     "metadata": {},
     "output_type": "display_data"
    },
    {
     "data": {
      "image/png": "[encoded data removed]",
      "text/plain": [
       "<Figure size 640x480 with 1 Axes>"
      ]
     },
     "metadata": {},
     "output_type": "display_data"
    },
    {
     "data": {
      "image/png": "[encoded data removed]",
      "text/plain": [
       "<Figure size 640x480 with 1 Axes>"
      ]
     },
     "metadata": {},
     "output_type": "display_data"
    },
    {
     "data": {
      "image/png": "[encoded data removed]",
      "text/plain": [
       "<Figure size 640x480 with 1 Axes>"
      ]
     },
     "metadata": {},
     "output_type": "display_data"
    }
   ],
   "source": [
    "plt.plot(losses[0])\n",
    "plt.title(\"Losses agent 1\")\n",
    "plt.show()\n",
    "\n",
    "plt.plot(losses[1])\n",
    "plt.title(\"Losses agent 2\")\n",
    "plt.show()\n",
    "\n",
    "plt.plot(losses[2])\n",
    "plt.title(\"Losses agent 3\")\n",
    "plt.show()\n",
    "\n",
    "plt.plot([min(loss, 0.5) for loss in losses[3]])\n",
    "plt.title(\"Losses agent 4\")\n",
    "plt.show()"
   ]
  },
  {
   "cell_type": "code",
   "execution_count": 29,
   "id": "b1cd5d0b",
   "metadata": {},
   "outputs": [],
   "source": [
    "# # Evaluate the final policy\n",
    "# rewards_0 = eval_agent(agent0, agent_rd, env, 20)\n",
    "# rewards_1 = eval_agent(agent_rd, agent0, env, 20)\n",
    "\n",
    "# print(\"mean reward after training = \", rewards_0, \"\\n\")\n",
    "# print(\"mean reward after training = \", rewards_1)\n",
    "\n",
    "# plt.hist([play_game(env, agent0, agent_rd, display=False) for _ in range(100)])\n",
    "# plt.title(\"against random player\")\n",
    "# plt.show()\n",
    "# plt.hist([play_game(env, agent0, agent_left, display=False) for _ in range(100)])\n",
    "# plt.title(\"against left player\")\n",
    "# plt.show()\n",
    "# plt.hist([play_game(env, agent0, agent1, display=False) for _ in range(100)])\n",
    "# plt.title(\"against other agent\")\n",
    "# plt.show()\n",
    "\n",
    "# play_game(env, agent0=agent0, agent1=agent_rd, display=False)"
   ]
  },
  {
   "cell_type": "markdown",
   "id": "8efa979b",
   "metadata": {},
   "source": [
    "## Tournament"
   ]
  },
  {
   "cell_type": "code",
   "execution_count": 38,
   "id": "344503d8",
   "metadata": {},
   "outputs": [
    {
     "name": "stdout",
     "output_type": "stream",
     "text": [
      "{'DQNAgent1': 0, 'DQNAgent2': 0, 'DQNAgent3': 0, 'DQNAgent4': 0}\n",
      "1 0\n",
      "2 0\n",
      "3 0\n",
      "4 0\n",
      "5 0\n",
      "5 1\n",
      "5 2\n",
      "5 3\n",
      "5 4\n",
      "5 5\n",
      "6 0\n",
      "7 0\n",
      "8 0\n",
      "9 0\n",
      "10 0\n",
      "10 1\n",
      "10 2\n",
      "10 3\n",
      "10 4\n",
      "10 5\n",
      "11 0\n",
      "12 0\n",
      "13 0\n",
      "14 0\n",
      "15 0\n",
      "15 1\n",
      "15 2\n",
      "15 3\n",
      "15 4\n",
      "15 5\n",
      "1 0\n",
      "2 0\n",
      "3 0\n",
      "4 0\n",
      "5 0\n",
      "5 1\n",
      "5 2\n",
      "5 3\n",
      "5 4\n",
      "5 5\n",
      "6 0\n",
      "7 0\n",
      "8 0\n",
      "9 0\n",
      "10 0\n",
      "10 1\n",
      "10 2\n",
      "10 3\n",
      "10 4\n",
      "10 5\n",
      "11 0\n",
      "12 0\n",
      "13 0\n",
      "14 0\n",
      "15 0\n",
      "15 1\n",
      "15 2\n",
      "15 3\n",
      "15 4\n",
      "15 5\n",
      "1 0\n",
      "2 0\n",
      "3 0\n",
      "4 0\n",
      "5 0\n",
      "5 1\n",
      "5 2\n",
      "5 3\n",
      "5 4\n",
      "5 5\n",
      "6 0\n",
      "7 0\n",
      "8 0\n",
      "9 0\n",
      "10 0\n",
      "10 1\n",
      "10 2\n",
      "10 3\n",
      "10 4\n",
      "10 5\n",
      "11 0\n",
      "12 0\n",
      "13 0\n",
      "14 0\n",
      "15 0\n",
      "15 1\n",
      "15 2\n",
      "15 3\n",
      "15 4\n",
      "15 5\n",
      "1 0\n",
      "2 0\n",
      "3 0\n",
      "4 0\n",
      "5 0\n",
      "5 1\n",
      "5 2\n",
      "5 3\n",
      "5 4\n",
      "5 5\n",
      "6 0\n",
      "7 0\n",
      "8 0\n",
      "9 0\n",
      "10 0\n",
      "10 1\n",
      "10 2\n",
      "10 3\n",
      "10 4\n",
      "10 5\n",
      "11 0\n",
      "12 0\n",
      "13 0\n",
      "14 0\n",
      "15 0\n",
      "15 1\n",
      "15 2\n",
      "15 3\n",
      "15 4\n",
      "15 5\n",
      "DQNAgent1  ->  30  wins\n",
      "DQNAgent2  ->  30  wins\n",
      "DQNAgent3  ->  30  wins\n",
      "DQNAgent4  ->  30  wins\n"
     ]
    }
   ],
   "source": [
    "'''\n",
    "We will make the four agents play with each other agents on the following rules:\n",
    "\n",
    "    - 5 games as first player\n",
    "    - 5 games as second player\n",
    "    - The winner will be determined by the best of 10 wins\n",
    "'''\n",
    "\n",
    "trained_agents_list = [agent_trained_on_rd, \n",
    "                       agent_trained_on_him,\n",
    "                       agent_trained_on_three,\n",
    "                       agent_trained_sequentially]\n",
    "\n",
    "total_result = {agent.name:0 for agent in trained_agents_list}\n",
    "print(total_result)\n",
    "opponents_list = trained_agents_list.copy()\n",
    "for agent in trained_agents_list:\n",
    "    score_agent = 0\n",
    "    opponents_list.remove(agent)\n",
    "\n",
    "    for opponent_agent in opponents_list:\n",
    "\n",
    "        score_opponent = 0\n",
    "        #5 games as first player\n",
    "        for i in range(5):\n",
    "            winner = play_game(env, agent, opponent_agent, display=False)\n",
    "            if(winner==0):\n",
    "                score_agent += 1\n",
    "            else:\n",
    "                score_opponent += 1\n",
    "            print(score_agent, score_opponent)\n",
    "        #5 games as second player\n",
    "        for j in range(5):\n",
    "            winner = play_game(env, opponent_agent, agent, display=False)\n",
    "            if(winner==1):\n",
    "                score_agent += 1\n",
    "            else:\n",
    "                score_opponent += 1\n",
    "            print(score_agent, score_opponent)\n",
    "                \n",
    "        total_result[opponent_agent.name] += score_opponent \n",
    "        \n",
    "    total_result[agent.name] += score_agent   \n",
    "    \n",
    "    opponents_list.append(agent)\n",
    "    \n",
    "for k, v in total_result.items():\n",
    "    print(k, \" -> \", v, \" wins\")"
   ]
  }
 ],
 "metadata": {
  "kernelspec": {
   "display_name": "Python 3 (ipykernel)",
   "language": "python",
   "name": "python3"
  },
  "language_info": {
   "codemirror_mode": {
    "name": "ipython",
    "version": 3
   },
   "file_extension": ".py",
   "mimetype": "text/x-python",
   "name": "python",
   "nbconvert_exporter": "python",
   "pygments_lexer": "ipython3",
   "version": "3.9.16"
  }
 },
 "nbformat": 4,
 "nbformat_minor": 5
}
